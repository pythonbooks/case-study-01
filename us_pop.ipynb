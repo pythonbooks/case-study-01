{
 "cells": [
  {
   "cell_type": "markdown",
   "metadata": {},
   "source": [
    "# US Populations\n",
    "References:\n",
    "- https://www.indexmundi.com/facts/united-states/quick-facts/all-states/population#map\n",
    "\n",
    "Data Souces:\n",
    "- https://www.census.gov/data/datasets/time-series/demo/popest/2010s-state-total.html\n",
    "\n",
    "This notebook demonstrates the use of following Python techniques:\n",
    "- Web scrapting using requests and beautiful soup\n",
    "- Data processing using Pandas (data cleansing and merging)\n",
    "- Interactive data visualization with Plotly \n",
    "- Choropleth Mapping with Plotly\n",
    "\n",
    "Note:\n",
    "\n",
    "A choropleth map is a type of thematic map in which areas are shaded or patterned in proportion to a statistical variable that represents an aggregate summary of a geographic characteristic within each area, such as population density or per-capita income. \n",
    "\n",
    "From Greek, khōra place + plēthos multitude."
   ]
  },
  {
   "cell_type": "code",
   "execution_count": null,
   "metadata": {},
   "outputs": [],
   "source": [
    "import requests\n",
    "from bs4 import BeautifulSoup\n",
    "import pandas as pd\n",
    "import plotly.express as px\n",
    "import plotly.graph_objs as go\n",
    "import plotly.io as pio"
   ]
  },
  {
   "cell_type": "code",
   "execution_count": null,
   "metadata": {},
   "outputs": [],
   "source": [
    "pio.renderers"
   ]
  },
  {
   "cell_type": "code",
   "execution_count": null,
   "metadata": {},
   "outputs": [],
   "source": [
    "pio.renderer = \"jupyterlab\""
   ]
  },
  {
   "cell_type": "code",
   "execution_count": null,
   "metadata": {},
   "outputs": [],
   "source": [
    "DATA_URL = \"https://simple.wikipedia.org/wiki/List_of_U.S._states_by_population\""
   ]
  },
  {
   "cell_type": "code",
   "execution_count": null,
   "metadata": {},
   "outputs": [],
   "source": [
    "html = requests.get(DATA_URL).text\n",
    "soup = BeautifulSoup(html, \"lxml\")\n",
    "print(soup.prettify()[10000:20000])"
   ]
  },
  {
   "cell_type": "code",
   "execution_count": null,
   "metadata": {},
   "outputs": [],
   "source": [
    "my_table = soup.find(\"table\",{\"class\":\"wikitable sortable\"})\n",
    "print(my_table.prettify()[:3000])"
   ]
  },
  {
   "cell_type": "code",
   "execution_count": null,
   "metadata": {},
   "outputs": [],
   "source": [
    "my_trs = my_table.findAll(\"tr\")\n",
    "my_trs[:5]"
   ]
  },
  {
   "cell_type": "code",
   "execution_count": null,
   "metadata": {},
   "outputs": [],
   "source": [
    "state_pop_list = []\n",
    "\n",
    "for tr in my_trs[1:]:                          # skip the header row\n",
    "    my_tds = tr.findAll(\"td\")\n",
    "    state = my_tds[2].text.strip()             # strip away the non-sense characters\n",
    "    pop = my_tds[3].text.strip()\n",
    "    state_pop = [state, pop]\n",
    "    state_pop_list.append(state_pop)\n",
    "\n",
    "state_pop_list[:4]\n",
    "    "
   ]
  },
  {
   "cell_type": "code",
   "execution_count": null,
   "metadata": {},
   "outputs": [],
   "source": [
    "df = pd.DataFrame(state_pop_list, columns=[\"State\", \"Population\"])\n",
    "df.head()"
   ]
  },
  {
   "cell_type": "code",
   "execution_count": null,
   "metadata": {},
   "outputs": [],
   "source": [
    "df.info()"
   ]
  },
  {
   "cell_type": "code",
   "execution_count": null,
   "metadata": {},
   "outputs": [],
   "source": [
    "df"
   ]
  },
  {
   "cell_type": "code",
   "execution_count": null,
   "metadata": {},
   "outputs": [],
   "source": [
    "df2 = df[:-5]\n",
    "df2"
   ]
  },
  {
   "cell_type": "code",
   "execution_count": null,
   "metadata": {},
   "outputs": [],
   "source": [
    "df2[\"Population\"] = df2[\"Population\"].apply(lambda pop: int(pop.replace(\",\",\"\")))\n",
    "df2"
   ]
  },
  {
   "cell_type": "code",
   "execution_count": null,
   "metadata": {},
   "outputs": [],
   "source": [
    "df2.info()"
   ]
  },
  {
   "cell_type": "code",
   "execution_count": null,
   "metadata": {},
   "outputs": [],
   "source": [
    "df3 = df2.sort_values(by=[\"Population\"],ascending=False)\n",
    "df3"
   ]
  },
  {
   "cell_type": "code",
   "execution_count": null,
   "metadata": {},
   "outputs": [],
   "source": [
    "fig = px.bar(df3, y=\"State\", x=\"Population\", orientation='h', height=800)\n",
    "\n",
    "fig.update_layout(\n",
    "    title='US Population by States',\n",
    "    yaxis=dict(\n",
    "        tickangle=0,\n",
    "        showticklabels=True,\n",
    "        type='category',\n",
    "       # title='Xaxis Name',\n",
    "        tickmode='linear'\n",
    "    )\n",
    ")\n",
    "fig"
   ]
  },
  {
   "cell_type": "code",
   "execution_count": null,
   "metadata": {},
   "outputs": [],
   "source": [
    "pio.renderer"
   ]
  },
  {
   "cell_type": "code",
   "execution_count": null,
   "metadata": {},
   "outputs": [],
   "source": [
    "\n",
    "state_fips = pd.read_csv(\"states.txt\", sep=\"\\t\", header=None)\n",
    "state_fips"
   ]
  },
  {
   "cell_type": "code",
   "execution_count": null,
   "metadata": {},
   "outputs": [],
   "source": [
    "state_fips.columns = [\"State\", \"FIPS\", \"ST\"]\n",
    "state_fips.head()"
   ]
  },
  {
   "cell_type": "code",
   "execution_count": null,
   "metadata": {},
   "outputs": [],
   "source": [
    "df4 = pd.merge(df3, state_fips, on=\"State\", how=\"inner\")\n",
    "df4"
   ]
  },
  {
   "cell_type": "code",
   "execution_count": null,
   "metadata": {},
   "outputs": [],
   "source": [
    "from urllib.request import urlopen\n",
    "import json\n",
    "with urlopen('https://raw.githubusercontent.com/PublicaMundi/MappingAPI/master/data/geojson/us-states.json') as response:\n",
    "    states = json.load(response)\n",
    "\n",
    "states[\"features\"][0]"
   ]
  },
  {
   "cell_type": "code",
   "execution_count": null,
   "metadata": {},
   "outputs": [],
   "source": [
    "fig = px.choropleth(df4,  \n",
    "                    locations='ST', \n",
    "                    color='Population',\n",
    "                    color_continuous_scale=\"Viridis\",\n",
    "                    scope=\"usa\",\n",
    "                    hover_name=\"State\",\n",
    "                    locationmode = 'USA-states',\n",
    "                    labels={'ST':'State'}\n",
    ")\n",
    "\n",
    "#fig.update_layout(margin={\"r\":0,\"t\":0,\"l\":0,\"b\":0})\n",
    "fig.show()"
   ]
  },
  {
   "cell_type": "code",
   "execution_count": null,
   "metadata": {},
   "outputs": [],
   "source": []
  }
 ],
 "metadata": {
  "kernelspec": {
   "display_name": "Python 3",
   "language": "python",
   "name": "python3"
  },
  "language_info": {
   "codemirror_mode": {
    "name": "ipython",
    "version": 3
   },
   "file_extension": ".py",
   "mimetype": "text/x-python",
   "name": "python",
   "nbconvert_exporter": "python",
   "pygments_lexer": "ipython3",
   "version": "3.8.1"
  }
 },
 "nbformat": 4,
 "nbformat_minor": 4
}
